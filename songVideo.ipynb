{
 "cells": [
  {
   "cell_type": "code",
   "execution_count": 12,
   "metadata": {},
   "outputs": [],
   "source": [
    "import os\n",
    "import random\n",
    "from moviepy.editor import *"
   ]
  },
  {
   "cell_type": "code",
   "execution_count": 15,
   "metadata": {},
   "outputs": [],
   "source": [
    "# Path to your folder containing images\n",
    "image_folder = \"Images_batch1\"\n",
    "\n",
    "# Path to your song (in .m4a format)\n",
    "audio_file = \"Whispering_Windsmp3.m4a\"\n",
    "# Get the audio file's duration\n",
    "audio = AudioFileClip(audio_file)\n",
    "audio_duration = audio.duration  # Total duration of the song in seconds"
   ]
  },
  {
   "cell_type": "code",
   "execution_count": 16,
   "metadata": {},
   "outputs": [],
   "source": [
    "# Duration of each image in the video (in seconds)\n",
    "image_duration = 5  # Adjust as needed"
   ]
  },
  {
   "cell_type": "code",
   "execution_count": 17,
   "metadata": {},
   "outputs": [],
   "source": [
    "# Get all image files from the folder (filtering for common image formats)\n",
    "image_files = [os.path.join(image_folder, f) for f in os.listdir(image_folder) \n",
    "               if f.endswith(('.png', '.jpg', '.jpeg', '.bmp', '.gif'))]"
   ]
  },
  {
   "cell_type": "code",
   "execution_count": 18,
   "metadata": {},
   "outputs": [],
   "source": [
    "# Sort the images if necessary (optional, based on their names)\n",
    "image_files.sort()"
   ]
  },
  {
   "cell_type": "code",
   "execution_count": 19,
   "metadata": {},
   "outputs": [],
   "source": [
    "# Create a list of ImageClips and resize them to 1920x1080\n",
    "clips = [ImageClip(img).set_duration(image_duration).resize(newsize=(1920, 1080)) for img in image_files]\n",
    "# Calculate how many times we need to loop through the images to match the audio duration\n",
    "total_clips_duration = len(clips) * image_duration\n",
    "# Create an empty list to hold the final clips\n",
    "final_clips = []"
   ]
  },
  {
   "cell_type": "code",
   "execution_count": 20,
   "metadata": {},
   "outputs": [],
   "source": [
    "# Loop through and reshuffle until we cover the audio duration\n",
    "while total_clips_duration < audio_duration:\n",
    "    random.shuffle(clips)  # Shuffle the clips\n",
    "    final_clips.extend(clips)  # Add shuffled clips to the final list\n",
    "    total_clips_duration = len(final_clips) * image_duration  # Update total duration\n"
   ]
  },
  {
   "cell_type": "code",
   "execution_count": 21,
   "metadata": {},
   "outputs": [],
   "source": [
    "# Concatenate all the image clips into a single video\n",
    "video = concatenate_videoclips(final_clips, method=\"compose\").subclip(0, audio_duration)  # Trim to match audio duration"
   ]
  },
  {
   "cell_type": "code",
   "execution_count": 22,
   "metadata": {},
   "outputs": [],
   "source": [
    "# Add the audio file to the video (supports .m4a)\n",
    "video = video.set_audio(audio)"
   ]
  },
  {
   "cell_type": "code",
   "execution_count": 23,
   "metadata": {},
   "outputs": [
    {
     "name": "stdout",
     "output_type": "stream",
     "text": [
      "Moviepy - Building video output_video_1080p.mp4.\n",
      "MoviePy - Writing audio in output_video_1080pTEMP_MPY_wvf_snd.mp3\n"
     ]
    },
    {
     "name": "stderr",
     "output_type": "stream",
     "text": [
      "                                                                     \r"
     ]
    },
    {
     "name": "stdout",
     "output_type": "stream",
     "text": [
      "MoviePy - Done.\n",
      "Moviepy - Writing video output_video_1080p.mp4\n",
      "\n"
     ]
    },
    {
     "name": "stderr",
     "output_type": "stream",
     "text": [
      "                                                                  \r"
     ]
    },
    {
     "name": "stdout",
     "output_type": "stream",
     "text": [
      "Moviepy - Done !\n",
      "Moviepy - video ready output_video_1080p.mp4\n"
     ]
    }
   ],
   "source": [
    "# Output the final video with 1080p resolution\n",
    "video.write_videofile(\"output_video_1080p.mp4\", fps=24)"
   ]
  },
  {
   "cell_type": "code",
   "execution_count": null,
   "metadata": {},
   "outputs": [],
   "source": []
  }
 ],
 "metadata": {
  "kernelspec": {
   "display_name": "Python 3",
   "language": "python",
   "name": "python3"
  },
  "language_info": {
   "codemirror_mode": {
    "name": "ipython",
    "version": 3
   },
   "file_extension": ".py",
   "mimetype": "text/x-python",
   "name": "python",
   "nbconvert_exporter": "python",
   "pygments_lexer": "ipython3",
   "version": "3.12.7"
  }
 },
 "nbformat": 4,
 "nbformat_minor": 2
}
