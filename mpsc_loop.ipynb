{
 "cells": [
  {
   "cell_type": "code",
   "execution_count": 1,
   "metadata": {},
   "outputs": [],
   "source": [
    "import pandas as pd\n",
    "import random\n",
    "from moviepy.editor import *\n",
    "from moviepy.video.VideoClip import TextClip\n",
    "#import moviepy.video.fx.all as vfx  # Correct import for the blur effect\n",
    "import cv2\n",
    "import numpy as np"
   ]
  },
  {
   "cell_type": "code",
   "execution_count": null,
   "metadata": {},
   "outputs": [],
   "source": [
    "# Function to apply blur using OpenCV\n",
    "def blur_image(image):\n",
    "    return cv2.GaussianBlur(image, (25, 51), 0)  # Apply Gaussian blur, adjust kernel size as needed\n",
    "\n",
    "#Load questions from Excel\n",
    "file_path = 'general_knowledge_questions.xlsx'\n",
    "df = pd.read_excel(file_path)\n",
    "\n",
    "# Randomly choose a background and music\n",
    "backgrounds = ['bg1.mp4', 'bg2.mp4']  # List of your background video files\n",
    "music_tracks = ['music1.mp3']  # List of your music tracks\n",
    "\n",
    "for idx, question_data in df.iterrows():\n",
    "    background = random.choice(backgrounds)\n",
    "    music = random.choice(music_tracks)\n",
    "    year = question_data['Year']\n",
    "    question = question_data['Question']\n",
    "    options = [question_data['Option1'], question_data['Option2'], question_data['Option3'], question_data['Option4']]\n",
    "    answer = question_data['Answer']\n",
    "    \n",
    "    # Create video components\n",
    "    bg_clip1 = VideoFileClip(background).subclip(0, 18)  # Subclip to 20 seconds for short\n",
    "    bg_clip = bg_clip1.fl_image(blur_image)  # Apply blur to each frame\n",
    "    \n",
    "    # 1. Year display for 3 seconds with a 3-second timer\n",
    "    year_clip = TextClip(f\"Year: {year}\", fontsize=140, color='white').set_position('center').set_duration(3)\n",
    "    timer_clip_3sec = [TextClip(str(i), fontsize=100, color='red').set_duration(1).set_position(('right', 'top')) for i in range(3, 0, -1)]\n",
    "    timer_clip_3sec = concatenate_videoclips(timer_clip_3sec)\n",
    "    year_screen = CompositeVideoClip([bg_clip.subclip(0, 3), year_clip, timer_clip_3sec]).set_duration(3)\n",
    "    \n",
    "    # 2. Question display first for 3 seconds\n",
    "    question_clip = TextClip(f\"Q: {question}\", fontsize=100, color='white', size=(900, None), method='caption').set_position(('center', 200)).set_duration(14)\n",
    "    # Centrally align options, wrap text, and space them dynamically\n",
    "    option_clips = []\n",
    "    start_y = 700  # Start position for options\n",
    "    for i, option in enumerate(options, 1):\n",
    "        option_text = TextClip(f\"{i}. {option}\", fontsize=80, color='white', size=(900, None), method='caption').set_position(('center', start_y + i * 200)).set_duration(14).set_start(2 + (i - 1) * 3)\n",
    "        option_clips.append(option_text)\n",
    "    timer_clip_14sec = [TextClip(str(i), fontsize=100, color='red').set_duration(1).set_position(('right', 'top')) for i in range(14, 0, -1)]\n",
    "    timer_clip_14sec = concatenate_videoclips(timer_clip_14sec)\n",
    "    question_screen = CompositeVideoClip([bg_clip.subclip(0, 14), question_clip] + option_clips + [timer_clip_14sec]).set_duration(14)\n",
    "\n",
    "    # 3. Answer display for 5 seconds (new screen, no timer)\n",
    "    answer_clip = TextClip(f\"Answer: {answer}\", fontsize=100, color='green', size=(900, None), method='caption').set_position('center').set_duration(1)\n",
    "\n",
    "    answer_screen = CompositeVideoClip([bg_clip.subclip(0, 5), answer_clip]).set_duration(1)\n",
    "    # Concatenate all screens\n",
    "    final_clip = concatenate_videoclips([year_screen, question_screen, answer_screen])\n",
    "    # Add background music\n",
    "    audio_clip = AudioFileClip(music).subclip(0, final_clip.duration)\n",
    "    final_clip = final_clip.set_audio(audio_clip)\n",
    "    \n",
    "    # Save the final video with a unique filename for each question\n",
    "    output_filename = f\"short_{idx + 1}.mp4\"  # For example: short_1.mp4, short_2.mp4, etc.\n",
    "    final_clip.write_videofile(output_filename, fps=24)\n"
   ]
  }
 ],
 "metadata": {
  "kernelspec": {
   "display_name": "Python 3",
   "language": "python",
   "name": "python3"
  },
  "language_info": {
   "codemirror_mode": {
    "name": "ipython",
    "version": 3
   },
   "file_extension": ".py",
   "mimetype": "text/x-python",
   "name": "python",
   "nbconvert_exporter": "python",
   "pygments_lexer": "ipython3",
   "version": "3.12.7"
  }
 },
 "nbformat": 4,
 "nbformat_minor": 2
}
