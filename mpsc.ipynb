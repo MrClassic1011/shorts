{
 "cells": [
  {
   "cell_type": "code",
   "execution_count": 1,
   "metadata": {},
   "outputs": [],
   "source": [
    "import pandas as pd\n",
    "import random\n",
    "from moviepy.editor import *\n",
    "from moviepy.video.VideoClip import TextClip\n",
    "#import moviepy.video.fx.all as vfx  # Correct import for the blur effect\n",
    "import cv2\n",
    "import numpy as np"
   ]
  },
  {
   "cell_type": "code",
   "execution_count": 2,
   "metadata": {},
   "outputs": [],
   "source": [
    "# Function to apply blur using OpenCV\n",
    "def blur_image(image):\n",
    "    return cv2.GaussianBlur(image, (25, 51), 0)  # Apply Gaussian blur, adjust kernel size as needed"
   ]
  },
  {
   "cell_type": "code",
   "execution_count": 3,
   "metadata": {},
   "outputs": [],
   "source": [
    "#Load questions from Excel\n",
    "file_path = 'general_knowledge_questions.xlsx'\n",
    "df = pd.read_excel(file_path)"
   ]
  },
  {
   "cell_type": "code",
   "execution_count": 4,
   "metadata": {},
   "outputs": [],
   "source": [
    "# Randomly choose a background and music\n",
    "backgrounds = ['bg1.mp4', 'bg2.mp4']  # List of your background video files\n",
    "music_tracks = ['music1.mp3']  # List of your music tracks\n",
    "background = random.choice(backgrounds)\n",
    "music = random.choice(music_tracks)"
   ]
  },
  {
   "cell_type": "code",
   "execution_count": 5,
   "metadata": {},
   "outputs": [],
   "source": [
    "# Choose a question (for example, the first row of the DataFrame)\n",
    "question_data = df.iloc[0]  # Or loop through for multiple shorts\n",
    "year = question_data['Year']\n",
    "question = question_data['Question']\n",
    "options = [question_data['Option1'], question_data['Option2'], question_data['Option3'], question_data['Option4']]\n",
    "answer = question_data['Answer']"
   ]
  },
  {
   "cell_type": "code",
   "execution_count": 6,
   "metadata": {},
   "outputs": [],
   "source": [
    "# Create video components\n",
    "bg_clip1 = VideoFileClip(background).subclip(0, 20)  # Subclip to 20 seconds for short\n",
    "bg_clip = bg_clip1.fl_image(blur_image)  # Apply blur to each frame"
   ]
  },
  {
   "cell_type": "code",
   "execution_count": 7,
   "metadata": {},
   "outputs": [],
   "source": [
    "# 1. Year display for 3 seconds with a 3-second timer\n",
    "year_clip = TextClip(f\"Year: {year}\", fontsize=140, color='white').set_position('center').set_duration(3)\n"
   ]
  },
  {
   "cell_type": "code",
   "execution_count": 8,
   "metadata": {},
   "outputs": [],
   "source": [
    "timer_clip_3sec = [TextClip(str(i), fontsize=100, color='red').set_duration(1).set_position(('right', 'top')) for i in range(3, 0, -1)]"
   ]
  },
  {
   "cell_type": "code",
   "execution_count": 9,
   "metadata": {},
   "outputs": [],
   "source": [
    "timer_clip_3sec = concatenate_videoclips(timer_clip_3sec)"
   ]
  },
  {
   "cell_type": "code",
   "execution_count": 10,
   "metadata": {},
   "outputs": [],
   "source": [
    "year_screen = CompositeVideoClip([bg_clip.subclip(0, 3), year_clip, timer_clip_3sec]).set_duration(3)"
   ]
  },
  {
   "cell_type": "code",
   "execution_count": 11,
   "metadata": {},
   "outputs": [],
   "source": [
    "# 2. Question and Options display for 14 seconds with a 14-second timer\n",
    "# Wrap and centrally align the question text\n",
    "question_clip = TextClip(f\"Q: {question}\", fontsize=100, color='white', size=(900, None), method='caption').set_position(('center', 300)).set_duration(14)"
   ]
  },
  {
   "cell_type": "code",
   "execution_count": 12,
   "metadata": {},
   "outputs": [],
   "source": [
    "# Centrally align options, wrap text, and space them dynamically\n",
    "option_clips = []\n",
    "start_y = 700  # Start position for options\n",
    "for i, option in enumerate(options, 1):\n",
    "    option_text = TextClip(f\"{i}. {option}\", fontsize=80, color='white', size=(900, None), method='caption').set_position(('center', start_y + i * 100)).set_duration(14)\n",
    "    option_clips.append(option_text)"
   ]
  },
  {
   "cell_type": "code",
   "execution_count": 13,
   "metadata": {},
   "outputs": [],
   "source": [
    "timer_clip_14sec = [TextClip(str(i), fontsize=100, color='red').set_duration(1).set_position(('right', 'top')) for i in range(14, 0, -1)]\n",
    "timer_clip_14sec = concatenate_videoclips(timer_clip_14sec)"
   ]
  },
  {
   "cell_type": "code",
   "execution_count": 14,
   "metadata": {},
   "outputs": [],
   "source": [
    "question_screen = CompositeVideoClip([bg_clip.subclip(0, 14), question_clip] + option_clips + [timer_clip_14sec]).set_duration(14)"
   ]
  },
  {
   "cell_type": "code",
   "execution_count": 15,
   "metadata": {},
   "outputs": [],
   "source": [
    "# 3. Answer display for 5 seconds (new screen, no timer)\n",
    "answer_clip = TextClip(f\"Answer: {answer}\", fontsize=100, color='green', size=(900, None), method='caption').set_position('center').set_duration(5)\n",
    "\n",
    "answer_screen = CompositeVideoClip([bg_clip.subclip(0, 5), answer_clip]).set_duration(5)"
   ]
  },
  {
   "cell_type": "code",
   "execution_count": 16,
   "metadata": {},
   "outputs": [],
   "source": [
    "# Concatenate all screens\n",
    "final_clip = concatenate_videoclips([year_screen, question_screen, answer_screen])"
   ]
  },
  {
   "cell_type": "code",
   "execution_count": 17,
   "metadata": {},
   "outputs": [],
   "source": [
    "# Add background music\n",
    "audio_clip = AudioFileClip(music).subclip(0, final_clip.duration)\n",
    "final_clip = final_clip.set_audio(audio_clip)"
   ]
  },
  {
   "cell_type": "code",
   "execution_count": 18,
   "metadata": {},
   "outputs": [
    {
     "name": "stdout",
     "output_type": "stream",
     "text": [
      "Moviepy - Building video short.mp4.\n",
      "MoviePy - Writing audio in shortTEMP_MPY_wvf_snd.mp3\n"
     ]
    },
    {
     "name": "stderr",
     "output_type": "stream",
     "text": [
      "                                                                   \r"
     ]
    },
    {
     "name": "stdout",
     "output_type": "stream",
     "text": [
      "MoviePy - Done.\n",
      "Moviepy - Writing video short.mp4\n",
      "\n"
     ]
    },
    {
     "name": "stderr",
     "output_type": "stream",
     "text": [
      "                                                              \r"
     ]
    },
    {
     "name": "stdout",
     "output_type": "stream",
     "text": [
      "Moviepy - Done !\n",
      "Moviepy - video ready short.mp4\n"
     ]
    }
   ],
   "source": [
    "# Save the final video\n",
    "final_clip.write_videofile(\"short.mp4\", fps=24)"
   ]
  }
 ],
 "metadata": {
  "kernelspec": {
   "display_name": "Python 3",
   "language": "python",
   "name": "python3"
  },
  "language_info": {
   "codemirror_mode": {
    "name": "ipython",
    "version": 3
   },
   "file_extension": ".py",
   "mimetype": "text/x-python",
   "name": "python",
   "nbconvert_exporter": "python",
   "pygments_lexer": "ipython3",
   "version": "3.12.7"
  }
 },
 "nbformat": 4,
 "nbformat_minor": 2
}
